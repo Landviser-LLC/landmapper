{
 "cells": [
  {
   "cell_type": "code",
   "execution_count": 1,
   "metadata": {},
   "outputs": [],
   "source": [
    "import pandas as pd\n",
    "import matplotlib as plt"
   ]
  },
  {
   "cell_type": "code",
   "execution_count": 2,
   "metadata": {},
   "outputs": [],
   "source": [
    "# loading the .csv file with VES\n",
    "#ves_file = \"ves_data/Bishkek15-iVEZ-data.csv\"\n",
    "#ves_file = \"ves_data/LM48-a-ogorod-ves-2.csv\"\n",
    "\n",
    "# those files will have AB/2, MN/2, RES-1, RES-2, ... etc\n",
    "# write script that will calculate K, ERa, Pseudodepth, present tables and charts\n",
    "\n"
   ]
  },
  {
   "cell_type": "code",
   "execution_count": null,
   "metadata": {},
   "outputs": [],
   "source": [
    "# loading and formatting data for RES1D - example\n",
    "'''\n",
    "Schlumberger test\n",
    "Array Type (Wenner or Schlumbeger)\n",
    "Schlumberger\n",
    "Number of data points\n",
    "14\n",
    "Data Type (Resistivity,IP,SIP)\n",
    "Resistivity\n",
    "Error in measurements included (Yes,No)\n",
    "No\n",
    "Data section\n",
    "'''"
   ]
  },
  {
   "cell_type": "code",
   "execution_count": null,
   "metadata": {},
   "outputs": [],
   "source": [
    "# saving separate .dat VES files"
   ]
  },
  {
   "cell_type": "code",
   "execution_count": 3,
   "metadata": {},
   "outputs": [
    {
     "name": "stdout",
     "output_type": "stream",
     "text": [
      "<class 'pandas.core.frame.DataFrame'>\n",
      "RangeIndex: 21 entries, 0 to 20\n",
      "Data columns (total 3 columns):\n",
      " #   Column  Non-Null Count  Dtype  \n",
      "---  ------  --------------  -----  \n",
      " 0   AB/2    21 non-null     float64\n",
      " 1   ER-all  21 non-null     float64\n",
      " 2   ER-10   21 non-null     float64\n",
      "dtypes: float64(3)\n",
      "memory usage: 632.0 bytes\n"
     ]
    }
   ],
   "source": [
    "# loading and formatting for iVEZ (<15 AB/2)\n",
    "''' AB/2 in cm\n",
    "   from lowest to highest\n",
    "   file is comma delimited, but has 2 rows - number of AB/2, number of VES\n",
    "                                        - values of AB/2, VES1, VES2, VES3, ....\n",
    "                                        - ends in comma\n",
    "   13,3\n",
    "   10,263,80,263,15,245,123,245,22,226,130,226,30,218,137,218,45,195,102,195,60,171,97,171,90,177,89,177,120,185,69,185,180,230,51,230,240,242,0,242,360,250,32,250,480,203,30,203,720,110,28,110,\n",
    "   \n",
    "   '''\n",
    "df = pd.read_csv(ves_file)\n",
    "df.info()"
   ]
  },
  {
   "cell_type": "code",
   "execution_count": 4,
   "metadata": {},
   "outputs": [],
   "source": [
    "df.dropna(axis=1, how='all', inplace=True)"
   ]
  },
  {
   "cell_type": "code",
   "execution_count": 5,
   "metadata": {},
   "outputs": [
    {
     "name": "stdout",
     "output_type": "stream",
     "text": [
      "<class 'pandas.core.frame.DataFrame'>\n",
      "RangeIndex: 21 entries, 0 to 20\n",
      "Data columns (total 3 columns):\n",
      " #   Column  Non-Null Count  Dtype  \n",
      "---  ------  --------------  -----  \n",
      " 0   AB/2    21 non-null     float64\n",
      " 1   ER-all  21 non-null     float64\n",
      " 2   ER-10   21 non-null     float64\n",
      "dtypes: float64(3)\n",
      "memory usage: 632.0 bytes\n"
     ]
    }
   ],
   "source": [
    "df.info()"
   ]
  },
  {
   "cell_type": "code",
   "execution_count": 7,
   "metadata": {},
   "outputs": [
    {
     "data": {
      "text/html": [
       "<div>\n",
       "<style scoped>\n",
       "    .dataframe tbody tr th:only-of-type {\n",
       "        vertical-align: middle;\n",
       "    }\n",
       "\n",
       "    .dataframe tbody tr th {\n",
       "        vertical-align: top;\n",
       "    }\n",
       "\n",
       "    .dataframe thead th {\n",
       "        text-align: right;\n",
       "    }\n",
       "</style>\n",
       "<table border=\"1\" class=\"dataframe\">\n",
       "  <thead>\n",
       "    <tr style=\"text-align: right;\">\n",
       "      <th></th>\n",
       "      <th>AB/2cm</th>\n",
       "      <th>AB/2</th>\n",
       "      <th>ER-all</th>\n",
       "      <th>ER-10</th>\n",
       "    </tr>\n",
       "  </thead>\n",
       "  <tbody>\n",
       "    <tr>\n",
       "      <th>0</th>\n",
       "      <td>22.0</td>\n",
       "      <td>0.22</td>\n",
       "      <td>257.948237</td>\n",
       "      <td>257.948237</td>\n",
       "    </tr>\n",
       "    <tr>\n",
       "      <th>1</th>\n",
       "      <td>30.0</td>\n",
       "      <td>0.30</td>\n",
       "      <td>312.718880</td>\n",
       "      <td>312.718880</td>\n",
       "    </tr>\n",
       "    <tr>\n",
       "      <th>2</th>\n",
       "      <td>45.0</td>\n",
       "      <td>0.45</td>\n",
       "      <td>126.360272</td>\n",
       "      <td>126.360272</td>\n",
       "    </tr>\n",
       "  </tbody>\n",
       "</table>\n",
       "</div>"
      ],
      "text/plain": [
       "   AB/2cm  AB/2      ER-all       ER-10\n",
       "0    22.0  0.22  257.948237  257.948237\n",
       "1    30.0  0.30  312.718880  312.718880\n",
       "2    45.0  0.45  126.360272  126.360272"
      ]
     },
     "execution_count": 7,
     "metadata": {},
     "output_type": "execute_result"
    }
   ],
   "source": [
    "# recaclulate AB/2 in cm and rename\n",
    "df['AB/2cm'] = df['AB/2'] * 100\n",
    "#df['AB/2, m'].drop(inplace=True)\n",
    "\n",
    "# reorder columns\n",
    "first_col = df.pop('AB/2cm')\n",
    "df.insert(0, 'AB/2cm', first_col)\n",
    "df.head(3)"
   ]
  },
  {
   "cell_type": "code",
   "execution_count": 8,
   "metadata": {},
   "outputs": [],
   "source": [
    "df.drop(columns=['AB/2'], inplace=True)"
   ]
  },
  {
   "cell_type": "code",
   "execution_count": 9,
   "metadata": {},
   "outputs": [
    {
     "data": {
      "text/html": [
       "<div>\n",
       "<style scoped>\n",
       "    .dataframe tbody tr th:only-of-type {\n",
       "        vertical-align: middle;\n",
       "    }\n",
       "\n",
       "    .dataframe tbody tr th {\n",
       "        vertical-align: top;\n",
       "    }\n",
       "\n",
       "    .dataframe thead th {\n",
       "        text-align: right;\n",
       "    }\n",
       "</style>\n",
       "<table border=\"1\" class=\"dataframe\">\n",
       "  <thead>\n",
       "    <tr style=\"text-align: right;\">\n",
       "      <th></th>\n",
       "      <th>AB/2cm</th>\n",
       "      <th>ER-all</th>\n",
       "      <th>ER-10</th>\n",
       "    </tr>\n",
       "  </thead>\n",
       "  <tbody>\n",
       "    <tr>\n",
       "      <th>0</th>\n",
       "      <td>22.0</td>\n",
       "      <td>258.0</td>\n",
       "      <td>258.0</td>\n",
       "    </tr>\n",
       "    <tr>\n",
       "      <th>1</th>\n",
       "      <td>30.0</td>\n",
       "      <td>313.0</td>\n",
       "      <td>313.0</td>\n",
       "    </tr>\n",
       "    <tr>\n",
       "      <th>2</th>\n",
       "      <td>45.0</td>\n",
       "      <td>126.0</td>\n",
       "      <td>126.0</td>\n",
       "    </tr>\n",
       "    <tr>\n",
       "      <th>3</th>\n",
       "      <td>60.0</td>\n",
       "      <td>186.0</td>\n",
       "      <td>186.0</td>\n",
       "    </tr>\n",
       "    <tr>\n",
       "      <th>4</th>\n",
       "      <td>90.0</td>\n",
       "      <td>158.0</td>\n",
       "      <td>158.0</td>\n",
       "    </tr>\n",
       "    <tr>\n",
       "      <th>5</th>\n",
       "      <td>100.0</td>\n",
       "      <td>153.0</td>\n",
       "      <td>153.0</td>\n",
       "    </tr>\n",
       "    <tr>\n",
       "      <th>6</th>\n",
       "      <td>120.0</td>\n",
       "      <td>147.0</td>\n",
       "      <td>147.0</td>\n",
       "    </tr>\n",
       "    <tr>\n",
       "      <th>7</th>\n",
       "      <td>180.0</td>\n",
       "      <td>119.0</td>\n",
       "      <td>119.0</td>\n",
       "    </tr>\n",
       "    <tr>\n",
       "      <th>8</th>\n",
       "      <td>200.0</td>\n",
       "      <td>108.0</td>\n",
       "      <td>108.0</td>\n",
       "    </tr>\n",
       "    <tr>\n",
       "      <th>9</th>\n",
       "      <td>240.0</td>\n",
       "      <td>98.0</td>\n",
       "      <td>98.0</td>\n",
       "    </tr>\n",
       "    <tr>\n",
       "      <th>10</th>\n",
       "      <td>300.0</td>\n",
       "      <td>84.0</td>\n",
       "      <td>84.0</td>\n",
       "    </tr>\n",
       "    <tr>\n",
       "      <th>11</th>\n",
       "      <td>360.0</td>\n",
       "      <td>66.0</td>\n",
       "      <td>66.0</td>\n",
       "    </tr>\n",
       "    <tr>\n",
       "      <th>12</th>\n",
       "      <td>400.0</td>\n",
       "      <td>57.0</td>\n",
       "      <td>57.0</td>\n",
       "    </tr>\n",
       "    <tr>\n",
       "      <th>13</th>\n",
       "      <td>480.0</td>\n",
       "      <td>47.0</td>\n",
       "      <td>47.0</td>\n",
       "    </tr>\n",
       "    <tr>\n",
       "      <th>14</th>\n",
       "      <td>500.0</td>\n",
       "      <td>42.0</td>\n",
       "      <td>43.0</td>\n",
       "    </tr>\n",
       "    <tr>\n",
       "      <th>15</th>\n",
       "      <td>600.0</td>\n",
       "      <td>39.0</td>\n",
       "      <td>38.0</td>\n",
       "    </tr>\n",
       "    <tr>\n",
       "      <th>16</th>\n",
       "      <td>700.0</td>\n",
       "      <td>33.0</td>\n",
       "      <td>30.0</td>\n",
       "    </tr>\n",
       "    <tr>\n",
       "      <th>17</th>\n",
       "      <td>720.0</td>\n",
       "      <td>29.0</td>\n",
       "      <td>27.0</td>\n",
       "    </tr>\n",
       "    <tr>\n",
       "      <th>18</th>\n",
       "      <td>800.0</td>\n",
       "      <td>34.0</td>\n",
       "      <td>36.0</td>\n",
       "    </tr>\n",
       "    <tr>\n",
       "      <th>19</th>\n",
       "      <td>900.0</td>\n",
       "      <td>34.0</td>\n",
       "      <td>32.0</td>\n",
       "    </tr>\n",
       "    <tr>\n",
       "      <th>20</th>\n",
       "      <td>1000.0</td>\n",
       "      <td>20.0</td>\n",
       "      <td>15.0</td>\n",
       "    </tr>\n",
       "  </tbody>\n",
       "</table>\n",
       "</div>"
      ],
      "text/plain": [
       "    AB/2cm  ER-all  ER-10\n",
       "0     22.0   258.0  258.0\n",
       "1     30.0   313.0  313.0\n",
       "2     45.0   126.0  126.0\n",
       "3     60.0   186.0  186.0\n",
       "4     90.0   158.0  158.0\n",
       "5    100.0   153.0  153.0\n",
       "6    120.0   147.0  147.0\n",
       "7    180.0   119.0  119.0\n",
       "8    200.0   108.0  108.0\n",
       "9    240.0    98.0   98.0\n",
       "10   300.0    84.0   84.0\n",
       "11   360.0    66.0   66.0\n",
       "12   400.0    57.0   57.0\n",
       "13   480.0    47.0   47.0\n",
       "14   500.0    42.0   43.0\n",
       "15   600.0    39.0   38.0\n",
       "16   700.0    33.0   30.0\n",
       "17   720.0    29.0   27.0\n",
       "18   800.0    34.0   36.0\n",
       "19   900.0    34.0   32.0\n",
       "20  1000.0    20.0   15.0"
      ]
     },
     "execution_count": 9,
     "metadata": {},
     "output_type": "execute_result"
    }
   ],
   "source": [
    "df.round(decimals=0)"
   ]
  },
  {
   "cell_type": "code",
   "execution_count": 11,
   "metadata": {},
   "outputs": [
    {
     "name": "stdout",
     "output_type": "stream",
     "text": [
      "<class 'pandas.core.frame.DataFrame'>\n",
      "Int64Index: 15 entries, 0 to 20\n",
      "Data columns (total 3 columns):\n",
      " #   Column  Non-Null Count  Dtype  \n",
      "---  ------  --------------  -----  \n",
      " 0   AB/2cm  15 non-null     float64\n",
      " 1   ER-all  15 non-null     float64\n",
      " 2   ER-10   15 non-null     float64\n",
      "dtypes: float64(3)\n",
      "memory usage: 480.0 bytes\n"
     ]
    }
   ],
   "source": [
    "# create a subset df15 - for iVEZ only accepts 15 AB/2\n",
    "\n",
    "df15 = df.loc[df['AB/2cm'].isin([22, 30, 45, 60, 90, 120, 180, 240, 300, 360, 480, 600, 720, 900, 1000])]\n",
    "df15.info()"
   ]
  },
  {
   "cell_type": "code",
   "execution_count": 10,
   "metadata": {},
   "outputs": [
    {
     "data": {
      "text/html": [
       "<div>\n",
       "<style scoped>\n",
       "    .dataframe tbody tr th:only-of-type {\n",
       "        vertical-align: middle;\n",
       "    }\n",
       "\n",
       "    .dataframe tbody tr th {\n",
       "        vertical-align: top;\n",
       "    }\n",
       "\n",
       "    .dataframe thead th {\n",
       "        text-align: right;\n",
       "    }\n",
       "</style>\n",
       "<table border=\"1\" class=\"dataframe\">\n",
       "  <thead>\n",
       "    <tr style=\"text-align: right;\">\n",
       "      <th></th>\n",
       "      <th>AB/2cm</th>\n",
       "      <th>ER-all</th>\n",
       "      <th>ER-10</th>\n",
       "    </tr>\n",
       "  </thead>\n",
       "  <tbody>\n",
       "    <tr>\n",
       "      <th>0</th>\n",
       "      <td>22.0</td>\n",
       "      <td>257.948237</td>\n",
       "      <td>257.948237</td>\n",
       "    </tr>\n",
       "  </tbody>\n",
       "</table>\n",
       "</div>"
      ],
      "text/plain": [
       "   AB/2cm      ER-all       ER-10\n",
       "0    22.0  257.948237  257.948237"
      ]
     },
     "execution_count": 10,
     "metadata": {},
     "output_type": "execute_result"
    }
   ],
   "source": [
    "df.head(1)"
   ]
  },
  {
   "cell_type": "code",
   "execution_count": 12,
   "metadata": {},
   "outputs": [
    {
     "name": "stdout",
     "output_type": "stream",
     "text": [
      "[[22, 257, 257], [30, 312, 312], [45, 126, 126], [60, 186, 186], [90, 158, 158], [120, 146, 146], [180, 119, 119], [240, 98, 98], [300, 84, 84], [360, 65, 65], [480, 46, 46], [600, 38, 38], [720, 28, 26], [900, 33, 31], [1000, 20, 14]]\n"
     ]
    }
   ],
   "source": [
    "# save values as 2d list\n",
    "veslist = df15.values.astype(int).tolist()\n",
    "print(veslist)"
   ]
  },
  {
   "cell_type": "code",
   "execution_count": 13,
   "metadata": {},
   "outputs": [
    {
     "name": "stdout",
     "output_type": "stream",
     "text": [
      "[22, 257, 257, 30, 312, 312, 45, 126, 126, 60, 186, 186, 90, 158, 158, 120, 146, 146, 180, 119, 119, 240, 98, 98, 300, 84, 84, 360, 65, 65, 480, 46, 46, 600, 38, 38, 720, 28, 26, 900, 33, 31, 1000, 20, 14]\n"
     ]
    }
   ],
   "source": [
    "# flat ves list\n",
    "flatves = sum(veslist,[])\n",
    "print(flatves)"
   ]
  },
  {
   "cell_type": "code",
   "execution_count": 14,
   "metadata": {},
   "outputs": [
    {
     "name": "stdout",
     "output_type": "stream",
     "text": [
      "22,257,257,30,312,312,45,126,126,60,186,186,90,158,158,120,146,146,180,119,119,240,98,98,300,84,84,360,65,65,480,46,46,600,38,38,720,28,26,900,33,31,1000,20,14\n"
     ]
    }
   ],
   "source": [
    "print(','.join(map(str,flatves)))"
   ]
  },
  {
   "cell_type": "code",
   "execution_count": 15,
   "metadata": {},
   "outputs": [],
   "source": [
    "# write values to the .txt file\n",
    "\n",
    "with open(\"a-ogorod_ivez2.txt\", \"w\") as file:\n",
    "  l1 = \"15,2\\n\"\n",
    "  l2 = ','.join(map(str,flatves)) + ','\n",
    "  file.writelines([l1,l2])\n",
    "  file.close()"
   ]
  },
  {
   "cell_type": "code",
   "execution_count": null,
   "metadata": {},
   "outputs": [],
   "source": []
  },
  {
   "cell_type": "code",
   "execution_count": null,
   "metadata": {},
   "outputs": [],
   "source": []
  }
 ],
 "metadata": {
  "kernelspec": {
   "display_name": ".venv38eo",
   "language": "python",
   "name": "python3"
  },
  "language_info": {
   "codemirror_mode": {
    "name": "ipython",
    "version": 3
   },
   "file_extension": ".py",
   "mimetype": "text/x-python",
   "name": "python",
   "nbconvert_exporter": "python",
   "pygments_lexer": "ipython3",
   "version": "3.8.10"
  },
  "orig_nbformat": 4
 },
 "nbformat": 4,
 "nbformat_minor": 2
}
