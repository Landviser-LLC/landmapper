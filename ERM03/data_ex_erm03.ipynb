{
 "cells": [
  {
   "cell_type": "code",
   "execution_count": 1,
   "id": "a0ab407d",
   "metadata": {
    "scrolled": true
   },
   "outputs": [
    {
     "ename": "ModuleNotFoundError",
     "evalue": "No module named 'gmaps'",
     "output_type": "error",
     "traceback": [
      "\u001b[1;31m---------------------------------------------------------------------------\u001b[0m",
      "\u001b[1;31mModuleNotFoundError\u001b[0m                       Traceback (most recent call last)",
      "\u001b[1;32m<ipython-input-1-eb3159a28cbe>\u001b[0m in \u001b[0;36m<module>\u001b[1;34m\u001b[0m\n\u001b[1;32m----> 1\u001b[1;33m \u001b[1;32mimport\u001b[0m \u001b[0mgmaps\u001b[0m\u001b[1;33m\u001b[0m\u001b[1;33m\u001b[0m\u001b[0m\n\u001b[0m\u001b[0;32m      2\u001b[0m \u001b[1;32mimport\u001b[0m \u001b[0mgmaps\u001b[0m\u001b[1;33m.\u001b[0m\u001b[0mdatasets\u001b[0m\u001b[1;33m\u001b[0m\u001b[1;33m\u001b[0m\u001b[0m\n\u001b[0;32m      3\u001b[0m \u001b[1;32mimport\u001b[0m \u001b[0mmatplotlib\u001b[0m\u001b[1;33m.\u001b[0m\u001b[0mpyplot\u001b[0m \u001b[1;32mas\u001b[0m \u001b[0mplt\u001b[0m\u001b[1;33m\u001b[0m\u001b[1;33m\u001b[0m\u001b[0m\n\u001b[0;32m      4\u001b[0m \u001b[1;32mimport\u001b[0m \u001b[0mpandas\u001b[0m \u001b[1;32mas\u001b[0m \u001b[0mpd\u001b[0m\u001b[1;33m\u001b[0m\u001b[1;33m\u001b[0m\u001b[0m\n\u001b[0;32m      5\u001b[0m \u001b[1;32mimport\u001b[0m \u001b[0mnumpy\u001b[0m \u001b[1;32mas\u001b[0m \u001b[0mnp\u001b[0m\u001b[1;33m\u001b[0m\u001b[1;33m\u001b[0m\u001b[0m\n",
      "\u001b[1;31mModuleNotFoundError\u001b[0m: No module named 'gmaps'"
     ]
    }
   ],
   "source": [
    "import gmaps\n",
    "import gmaps.datasets\n",
    "import matplotlib.pyplot as plt\n",
    "import pandas as pd\n",
    "import numpy as np\n",
    "import csv"
   ]
  },
  {
   "cell_type": "code",
   "execution_count": 24,
   "id": "45b5e9a8",
   "metadata": {},
   "outputs": [],
   "source": [
    "gmaps.configure(api_key = 'your google api key')"
   ]
  },
  {
   "cell_type": "code",
   "execution_count": 25,
   "id": "9d17f611",
   "metadata": {
    "scrolled": true
   },
   "outputs": [],
   "source": [
    "eq_df = gmaps.datasets.load_dataset_as_df('earthquakes')\n",
    "eq_df.head()\n",
    "contr_path = r'stanciya.csv'"
   ]
  },
  {
   "cell_type": "code",
   "execution_count": 26,
   "id": "04d47054",
   "metadata": {},
   "outputs": [
    {
     "data": {
      "application/vnd.jupyter.widget-view+json": {
       "model_id": "5f21bb4e23e44fc1aa60f842dcbd3ed6",
       "version_major": 2,
       "version_minor": 0
      },
      "text/plain": [
       "Figure(layout=FigureLayout(height='420px'))"
      ]
     },
     "metadata": {},
     "output_type": "display_data"
    }
   ],
   "source": [
    "locations = eq_df[['latitude','longitude']]\n",
    "weights = eq_df['magnitude']\n",
    "fig = gmaps.figure()\n",
    "fig.add_layer(gmaps.heatmap_layer(locations,weights))\n",
    "fig"
   ]
  },
  {
   "cell_type": "code",
   "execution_count": null,
   "id": "7bcb6ba4",
   "metadata": {},
   "outputs": [],
   "source": [
    "resistance"
   ]
  },
  {
   "cell_type": "code",
   "execution_count": 30,
   "id": "daaa4907",
   "metadata": {},
   "outputs": [],
   "source": [
    "def get_data(path1):\n",
    "    with open(path1, \"r\", newline=\"\") as file1:\n",
    "        reader = csv.reader(file1)\n",
    "        listrva = []\n",
    "        datalist = []\n",
    "        for row in reader:\n",
    "            datalist.append([row[0], row[2], row[3], row[4], row[5], row[7], row[9]])\n",
    "        resdf=pd.DataFrame(datalist,columns=['№', 'resistance', 'K#', 'day of the month', 'timestamp', 'voltage', 'amperage'])\n",
    "    return resdf"
   ]
  },
  {
   "cell_type": "code",
   "execution_count": 31,
   "id": "d1ecaf97",
   "metadata": {},
   "outputs": [
    {
     "data": {
      "text/html": [
       "<div>\n",
       "<style scoped>\n",
       "    .dataframe tbody tr th:only-of-type {\n",
       "        vertical-align: middle;\n",
       "    }\n",
       "\n",
       "    .dataframe tbody tr th {\n",
       "        vertical-align: top;\n",
       "    }\n",
       "\n",
       "    .dataframe thead th {\n",
       "        text-align: right;\n",
       "    }\n",
       "</style>\n",
       "<table border=\"1\" class=\"dataframe\">\n",
       "  <thead>\n",
       "    <tr style=\"text-align: right;\">\n",
       "      <th></th>\n",
       "      <th>№</th>\n",
       "      <th>resistance</th>\n",
       "      <th>K#</th>\n",
       "      <th>day of the month</th>\n",
       "      <th>timestamp</th>\n",
       "      <th>voltage</th>\n",
       "      <th>amperage</th>\n",
       "    </tr>\n",
       "  </thead>\n",
       "  <tbody>\n",
       "    <tr>\n",
       "      <th>0</th>\n",
       "      <td>0</td>\n",
       "      <td>0.20</td>\n",
       "      <td>K64</td>\n",
       "      <td>23</td>\n",
       "      <td>12:26:26</td>\n",
       "      <td>0.00038</td>\n",
       "      <td>0.0019</td>\n",
       "    </tr>\n",
       "    <tr>\n",
       "      <th>1</th>\n",
       "      <td>1</td>\n",
       "      <td>0.01</td>\n",
       "      <td>K64</td>\n",
       "      <td>23</td>\n",
       "      <td>12:26:40</td>\n",
       "      <td>0.000016</td>\n",
       "      <td>0.0018</td>\n",
       "    </tr>\n",
       "    <tr>\n",
       "      <th>2</th>\n",
       "      <td>2</td>\n",
       "      <td>0.07</td>\n",
       "      <td>K64</td>\n",
       "      <td>23</td>\n",
       "      <td>12:26:53</td>\n",
       "      <td>0.00013</td>\n",
       "      <td>0.0019</td>\n",
       "    </tr>\n",
       "    <tr>\n",
       "      <th>3</th>\n",
       "      <td>3</td>\n",
       "      <td>0.02</td>\n",
       "      <td>K64</td>\n",
       "      <td>23</td>\n",
       "      <td>12:27:05</td>\n",
       "      <td>0.000038</td>\n",
       "      <td>0.0019</td>\n",
       "    </tr>\n",
       "    <tr>\n",
       "      <th>4</th>\n",
       "      <td>4</td>\n",
       "      <td>0.06</td>\n",
       "      <td>K64</td>\n",
       "      <td>23</td>\n",
       "      <td>12:27:19</td>\n",
       "      <td>0.00011</td>\n",
       "      <td>0.0019</td>\n",
       "    </tr>\n",
       "    <tr>\n",
       "      <th>...</th>\n",
       "      <td>...</td>\n",
       "      <td>...</td>\n",
       "      <td>...</td>\n",
       "      <td>...</td>\n",
       "      <td>...</td>\n",
       "      <td>...</td>\n",
       "      <td>...</td>\n",
       "    </tr>\n",
       "    <tr>\n",
       "      <th>460</th>\n",
       "      <td>460</td>\n",
       "      <td>0.03</td>\n",
       "      <td>K80</td>\n",
       "      <td>23</td>\n",
       "      <td>14:38:15</td>\n",
       "      <td>0.000081</td>\n",
       "      <td>0.0029</td>\n",
       "    </tr>\n",
       "    <tr>\n",
       "      <th>461</th>\n",
       "      <td>461</td>\n",
       "      <td>0.09</td>\n",
       "      <td>K80</td>\n",
       "      <td>23</td>\n",
       "      <td>14:38:25</td>\n",
       "      <td>0.00028</td>\n",
       "      <td>0.0029</td>\n",
       "    </tr>\n",
       "    <tr>\n",
       "      <th>462</th>\n",
       "      <td>462</td>\n",
       "      <td>0.09</td>\n",
       "      <td>K80</td>\n",
       "      <td>23</td>\n",
       "      <td>14:38:36</td>\n",
       "      <td>0.00026</td>\n",
       "      <td>0.0029</td>\n",
       "    </tr>\n",
       "    <tr>\n",
       "      <th>463</th>\n",
       "      <td>463</td>\n",
       "      <td>0.16</td>\n",
       "      <td>K80</td>\n",
       "      <td>23</td>\n",
       "      <td>14:38:45</td>\n",
       "      <td>0.00047</td>\n",
       "      <td>0.0029</td>\n",
       "    </tr>\n",
       "    <tr>\n",
       "      <th>464</th>\n",
       "      <td>464</td>\n",
       "      <td>0.02</td>\n",
       "      <td>K80</td>\n",
       "      <td>23</td>\n",
       "      <td>14:38:56</td>\n",
       "      <td>0.000069</td>\n",
       "      <td>0.0029</td>\n",
       "    </tr>\n",
       "  </tbody>\n",
       "</table>\n",
       "<p>465 rows × 7 columns</p>\n",
       "</div>"
      ],
      "text/plain": [
       "       № resistance   K# day of the month timestamp   voltage amperage\n",
       "0      0       0.20  K64               23  12:26:26   0.00038   0.0019\n",
       "1      1       0.01  K64               23  12:26:40  0.000016   0.0018\n",
       "2      2       0.07  K64               23  12:26:53   0.00013   0.0019\n",
       "3      3       0.02  K64               23  12:27:05  0.000038   0.0019\n",
       "4      4       0.06  K64               23  12:27:19   0.00011   0.0019\n",
       "..   ...        ...  ...              ...       ...       ...      ...\n",
       "460  460       0.03  K80               23  14:38:15  0.000081   0.0029\n",
       "461  461       0.09  K80               23  14:38:25   0.00028   0.0029\n",
       "462  462       0.09  K80               23  14:38:36   0.00026   0.0029\n",
       "463  463       0.16  K80               23  14:38:45   0.00047   0.0029\n",
       "464  464       0.02  K80               23  14:38:56  0.000069   0.0029\n",
       "\n",
       "[465 rows x 7 columns]"
      ]
     },
     "execution_count": 31,
     "metadata": {},
     "output_type": "execute_result"
    }
   ],
   "source": [
    "get_data(contr_path)"
   ]
  },
  {
   "cell_type": "code",
   "execution_count": null,
   "id": "ecfb7df6",
   "metadata": {},
   "outputs": [],
   "source": []
  }
 ],
 "metadata": {
  "kernelspec": {
   "display_name": "Python 3",
   "language": "python",
   "name": "python3"
  },
  "language_info": {
   "codemirror_mode": {
    "name": "ipython",
    "version": 3
   },
   "file_extension": ".py",
   "mimetype": "text/x-python",
   "name": "python",
   "nbconvert_exporter": "python",
   "pygments_lexer": "ipython3",
   "version": "3.8.0"
  }
 },
 "nbformat": 4,
 "nbformat_minor": 5
}
