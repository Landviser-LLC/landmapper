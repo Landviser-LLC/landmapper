{
 "cells": [
  {
   "cell_type": "code",
   "execution_count": 4,
   "metadata": {},
   "outputs": [],
   "source": [
    "import matplotlib as mpl\n",
    "import matplotlib.pyplot as plt\n",
    "import numpy as np\n",
    "import pandas as pd"
   ]
  },
  {
   "cell_type": "code",
   "execution_count": 25,
   "metadata": {},
   "outputs": [],
   "source": [
    "# Structure of xlsx file\n",
    "filein = \"example.xlsx\"  # where the data is located\n",
    "ncolours = 12 # number of colours for plots\n",
    "colourscheme = 'viridis' # for others see https://matplotlib.org/examples/color/colormaps_reference.html\n",
    "linekeys=['LINE_A','LINE_B'] # labels of tabs of ERT data\n",
    "topokeys=['LINE_A_TOPO','LINE_B_TOPO'] # labels of tabs of topography data\n"
   ]
  },
  {
   "cell_type": "code",
   "execution_count": 26,
   "metadata": {},
   "outputs": [],
   "source": [
    "nsubfigs=np.size(linekeys)"
   ]
  },
  {
   "cell_type": "code",
   "execution_count": 27,
   "metadata": {},
   "outputs": [],
   "source": [
    "xl_file = pd.ExcelFile(filein)"
   ]
  },
  {
   "cell_type": "code",
   "execution_count": 28,
   "metadata": {},
   "outputs": [],
   "source": [
    "ERT={}\n",
    "for j in xl_file.sheet_names:\n",
    "    ERT[j]=xl_file.parse(j)"
   ]
  },
  {
   "cell_type": "code",
   "execution_count": 29,
   "metadata": {},
   "outputs": [
    {
     "name": "stdout",
     "output_type": "stream",
     "text": [
      "LINE_A\n",
      "LINE_B\n"
     ]
    }
   ],
   "source": [
    "allrhos=[]\n",
    "for i in linekeys:\n",
    "    print(i)\n",
    "    rho=ERT[i]['Res'].values\n",
    "    allrhos.append(rho)\n",
    "allrhos = np.concatenate(allrhos)\n",
    "clevels = np.logspace(np.log10(np.min(allrhos)),np.log10(np.max(allrhos)),num=ncolours,base=10)"
   ]
  },
  {
   "cell_type": "code",
   "execution_count": 30,
   "metadata": {},
   "outputs": [
    {
     "data": {
      "text/plain": [
       "[Text(1, 3.468, '3'),\n",
       " Text(1, 7.025107936633494, '7'),\n",
       " Text(1, 14.230721315268422, '14'),\n",
       " Text(1, 28.827091480943366, '28'),\n",
       " Text(1, 58.39487576494666, '58'),\n",
       " Text(1, 118.29016874136495, '118'),\n",
       " Text(1, 239.61972412072595, '239'),\n",
       " Text(1, 485.39631652088815, '485'),\n",
       " Text(1, 983.2645662063309, '983'),\n",
       " Text(1, 1991.7934567089344, '1991'),\n",
       " Text(1, 4034.764711897519, '4034'),\n",
       " Text(1, 8173.199999999998, '8173')]"
      ]
     },
     "execution_count": 30,
     "metadata": {},
     "output_type": "execute_result"
    },
    {
     "data": {
      "image/png": "[encoded data removed]",
      "text/plain": [
       "<Figure size 432x288 with 3 Axes>"
      ]
     },
     "metadata": {
      "needs_background": "light"
     },
     "output_type": "display_data"
    }
   ],
   "source": [
    "fig, axes = plt.subplots(nrows=nsubfigs, ncols=1,sharex=False)\n",
    "i=0\n",
    "for ax in axes.flat:\n",
    "    keyhere=linekeys[i]\n",
    "    x=ERT[keyhere]['X']\n",
    "    z=ERT[keyhere]['Z']\n",
    "    rho=ERT[keyhere]['Res']\n",
    "    triang = mpl.tri.Triangulation(x, z)\n",
    "    mask = mpl.tri.TriAnalyzer(triang).get_flat_tri_mask(.1)\n",
    "    triang.set_mask(mask)\n",
    "    topokeyhere=topokeys[i]\n",
    "    xt=ERT[topokeyhere]['X']\n",
    "    zt=ERT[topokeyhere]['Z']\n",
    "    cc=ax.tricontourf(triang,rho,levels=clevels, norm=mpl.colors.LogNorm(vmin=allrhos.min(), vmax=allrhos.max()), cmap=colourscheme)\n",
    "    ax.axis('equal')\n",
    "    topokeyhere=topokeys[i]\n",
    "    ax.plot(xt,zt,'k')\n",
    "    i=i+1\n",
    "fig.text(0.5, 0.04, 'X (m)', ha='center')\n",
    "fig.text(0.04, 0.5, 'Z (m)', va='center', rotation='vertical')\n",
    "fig.suptitle('Resistivity ($\\Omega\\cdot$m)')\n",
    "clabels=[]\n",
    "for c in clevels: \n",
    "    clabels.append('%d' % c) # label all levels with no-decimal formatting\n",
    "thecbar=fig.colorbar(cc, ax=axes,ticks=clevels)\n",
    "thecbar.ax.set_yticklabels(clabels)"
   ]
  },
  {
   "cell_type": "code",
   "execution_count": null,
   "metadata": {},
   "outputs": [],
   "source": []
  },
  {
   "cell_type": "code",
   "execution_count": null,
   "metadata": {},
   "outputs": [],
   "source": []
  }
 ],
 "metadata": {
  "kernelspec": {
   "display_name": "Python 3",
   "language": "python",
   "name": "python3"
  },
  "language_info": {
   "codemirror_mode": {
    "name": "ipython",
    "version": 3
   },
   "file_extension": ".py",
   "mimetype": "text/x-python",
   "name": "python",
   "nbconvert_exporter": "python",
   "pygments_lexer": "ipython3",
   "version": "3.9.5"
  }
 },
 "nbformat": 4,
 "nbformat_minor": 4
}
