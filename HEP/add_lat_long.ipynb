{
 "cells": [
  {
   "cell_type": "markdown",
   "metadata": {},
   "source": [
    "### GIS data preparation"
   ]
  },
  {
   "cell_type": "markdown",
   "metadata": {},
   "source": [
    "the solution found at https://gis.stackexchange.com/questions/157693/getting-all-vertex-lat-long-coordinates-every-1-meter-between-two-known-points\n",
    "refering to http://www.movable-type.co.uk/scripts/latlong.html which has formulas in Java Script and for Excel\n",
    "\n",
    "Python function adaptations\n"
   ]
  },
  {
   "cell_type": "markdown",
   "metadata": {},
   "source": [
    "#### Importing all needed modules and libraries"
   ]
  },
  {
   "cell_type": "code",
   "execution_count": 1,
   "metadata": {},
   "outputs": [],
   "source": [
    "import pandas as pd\n",
    "import math"
   ]
  },
  {
   "cell_type": "markdown",
   "metadata": {},
   "source": [
    "#### GIS functions needed for coordinates calculation"
   ]
  },
  {
   "cell_type": "code",
   "execution_count": 10,
   "metadata": {},
   "outputs": [],
   "source": [
    "def getPathLength(lat1,lng1,lat2,lng2):\n",
    "    '''calculates the distance between two lat, long coordinate pairs'''\n",
    "    R = 6371000 # radius of earth in m\n",
    "    lat1rads = math.radians(lat1)\n",
    "    lat2rads = math.radians(lat2)\n",
    "    deltaLat = math.radians((lat2-lat1))\n",
    "    deltaLng = math.radians((lng2-lng1))\n",
    "    a = math.sin(deltaLat/2) * math.sin(deltaLat/2) + math.cos(lat1rads) * math.cos(lat2rads) * math.sin(deltaLng/2) * math.sin(deltaLng/2)\n",
    "    c = 2 * math.atan2(math.sqrt(a), math.sqrt(1-a))\n",
    "    d = R * c\n",
    "    return d\n",
    "\n",
    "def calculateBearing(lat1,lng1,lat2,lng2):\n",
    "    '''calculates the azimuth in degrees from start point to end point'''\n",
    "    startLat = math.radians(lat1)\n",
    "    startLong = math.radians(lng1)\n",
    "    endLat = math.radians(lat2)\n",
    "    endLong = math.radians(lng2)\n",
    "    dLong = endLong - startLong\n",
    "    dPhi = math.log(math.tan(endLat/2.0+math.pi/4.0)/math.tan(startLat/2.0+math.pi/4.0))\n",
    "    if abs(dLong) > math.pi:\n",
    "         if dLong > 0.0:\n",
    "             dLong = -(2.0 * math.pi - dLong)\n",
    "         else:\n",
    "             dLong = (2.0 * math.pi + dLong)\n",
    "    bearing = (math.degrees(math.atan2(dLong, dPhi)) + 360.0) % 360.0;\n",
    "    return bearing\n",
    "\n",
    "def getDestinationLatLong(lat,lng,azimuth,distance):\n",
    "    '''returns the lat and long of destination point \n",
    "    given the start lat, long, aziuth, and distance'''\n",
    "    R = 6378.1 #Radius of the Earth in km\n",
    "    brng = math.radians(azimuth) #Bearing is degrees converted to radians.\n",
    "    d = distance/1000 #Distance m converted to km\n",
    "    lat1 = math.radians(lat) #Current dd lat point converted to radians\n",
    "    lon1 = math.radians(lng) #Current dd long point converted to radians\n",
    "    lat2 = math.asin(math.sin(lat1) * math.cos(d/R) + math.cos(lat1)* math.sin(d/R)* math.cos(brng))\n",
    "    lon2 = lon1 + math.atan2(math.sin(brng) * math.sin(d/R)* math.cos(lat1), math.cos(d/R)- math.sin(lat1)* math.sin(lat2))\n",
    "    #convert back to degrees\n",
    "    lat2 = math.degrees(lat2)\n",
    "    lon2 = math.degrees(lon2)\n",
    "    return[lat2, lon2]\n",
    "\n",
    "def coord(interval,azimuth,lat1,lng1,lat2,lng2):\n",
    "    '''returns every coordinate pair between two coordinate \n",
    "    pairs given the desired interval'''\n",
    "\n",
    "    d = getPathLength(lat1,lng1,lat2,lng2)\n",
    "    remainder, dist = math.modf((d / interval))\n",
    "    counter = float(interval)\n",
    "    coords = []\n",
    "    coords.append([lat1,lng1])\n",
    "    for distance in range(1,int(dist)):       # have to modify from original as it did not take into account the beginning/end point coordinates\n",
    "        coord = getDestinationLatLong(lat1,lng1,azimuth,counter)\n",
    "        counter = counter + float(interval)\n",
    "        coords.append(coord)\n",
    "    coords.append([lat2,lng2])\n",
    "    return coords\n"
   ]
  },
  {
   "cell_type": "code",
   "execution_count": 77,
   "metadata": {},
   "outputs": [
    {
     "data": {
      "text/plain": [
       "1.8849555921538759"
      ]
     },
     "execution_count": 77,
     "metadata": {},
     "output_type": "execute_result"
    }
   ],
   "source": [
    "# calculate K - Wenner\n",
    "mn = 0.30\n",
    "Kgeom = 2 * math.pi * mn\n",
    "Kgeom"
   ]
  },
  {
   "cell_type": "code",
   "execution_count": 98,
   "metadata": {},
   "outputs": [],
   "source": [
    "# add REScorrect\n",
    "df_erGIS['REScorrect'] = df_erGIS['RESapparent'] * Kgeom / 2.13"
   ]
  },
  {
   "cell_type": "markdown",
   "metadata": {},
   "source": [
    "#### Load GIS and Apparent Resistivity data for HEP from CSV file"
   ]
  },
  {
   "cell_type": "code",
   "execution_count": 186,
   "metadata": {},
   "outputs": [
    {
     "name": "stdout",
     "output_type": "stream",
     "text": [
      "<class 'pandas.core.frame.DataFrame'>\n",
      "RangeIndex: 114 entries, 0 to 113\n",
      "Data columns (total 1 columns):\n",
      " #   Column       Non-Null Count  Dtype  \n",
      "---  ------       --------------  -----  \n",
      " 0   41.06153846  106 non-null    float64\n",
      "dtypes: float64(1)\n",
      "memory usage: 1.0 KB\n"
     ]
    }
   ],
   "source": [
    "# load CSV in dictionary and df\n",
    "# RESa data df\n",
    "filename = 'hep_5'\n",
    "df_res = pd.read_csv(filename + '.csv', skiprows=6) # see the file on how many rows to skip, standard 6\n",
    "#df_res = pd.read_csv('hep_5.csv', skiprows=6)\n",
    "\n",
    "# CSV from Excel sometimes import completely empty extra rows and columns, this will get rid of them\n",
    "df_res.dropna(axis=1, how='all', inplace=True)\n",
    "#df_res.dropna(axis=0, how='all', inplace=True)\n",
    "\n",
    "df_res.info()"
   ]
  },
  {
   "cell_type": "code",
   "execution_count": 187,
   "metadata": {},
   "outputs": [
    {
     "name": "stdout",
     "output_type": "stream",
     "text": [
      "41.06153846    count 106\n",
      "dtype: object\n"
     ]
    },
    {
     "data": {
      "text/plain": [
       "114"
      ]
     },
     "execution_count": 187,
     "metadata": {},
     "output_type": "execute_result"
    }
   ],
   "source": [
    "print('count ' + df_res.count().astype(str))\n",
    "df_res.shape[0]\n",
    "#print('number of rows ' + len(df_res.index).astype(str))"
   ]
  },
  {
   "cell_type": "code",
   "execution_count": 185,
   "metadata": {},
   "outputs": [
    {
     "data": {
      "text/html": [
       "<div>\n",
       "<style scoped>\n",
       "    .dataframe tbody tr th:only-of-type {\n",
       "        vertical-align: middle;\n",
       "    }\n",
       "\n",
       "    .dataframe tbody tr th {\n",
       "        vertical-align: top;\n",
       "    }\n",
       "\n",
       "    .dataframe thead th {\n",
       "        text-align: right;\n",
       "    }\n",
       "</style>\n",
       "<table border=\"1\" class=\"dataframe\">\n",
       "  <thead>\n",
       "    <tr style=\"text-align: right;\">\n",
       "      <th></th>\n",
       "      <th>0</th>\n",
       "      <th>1</th>\n",
       "      <th>2</th>\n",
       "    </tr>\n",
       "  </thead>\n",
       "  <tbody>\n",
       "    <tr>\n",
       "      <th>0</th>\n",
       "      <td>Начало (широта, долгота)</td>\n",
       "      <td>56.039415</td>\n",
       "      <td>37.167798</td>\n",
       "    </tr>\n",
       "    <tr>\n",
       "      <th>1</th>\n",
       "      <td>Конец (широта, долгота)</td>\n",
       "      <td>56.040911</td>\n",
       "      <td>37.168846</td>\n",
       "    </tr>\n",
       "    <tr>\n",
       "      <th>2</th>\n",
       "      <td>шаг (м)</td>\n",
       "      <td>1.500000</td>\n",
       "      <td>NaN</td>\n",
       "    </tr>\n",
       "    <tr>\n",
       "      <th>3</th>\n",
       "      <td>АВ (м)</td>\n",
       "      <td>1.500000</td>\n",
       "      <td>NaN</td>\n",
       "    </tr>\n",
       "    <tr>\n",
       "      <th>4</th>\n",
       "      <td>К-геом (м)</td>\n",
       "      <td>3.140000</td>\n",
       "      <td>NaN</td>\n",
       "    </tr>\n",
       "  </tbody>\n",
       "</table>\n",
       "</div>"
      ],
      "text/plain": [
       "                          0          1          2\n",
       "0  Начало (широта, долгота)  56.039415  37.167798\n",
       "1   Конец (широта, долгота)  56.040911  37.168846\n",
       "2                   шаг (м)   1.500000        NaN\n",
       "3                    АВ (м)   1.500000        NaN\n",
       "4                К-геом (м)   3.140000        NaN"
      ]
     },
     "execution_count": 185,
     "metadata": {},
     "output_type": "execute_result"
    }
   ],
   "source": [
    "# load start and finish points of HEP profile to a separate df\n",
    "df_gis = pd.read_csv(filename +'.csv', nrows=5, header=None)\n",
    "df_gis"
   ]
  },
  {
   "cell_type": "code",
   "execution_count": 188,
   "metadata": {},
   "outputs": [],
   "source": [
    "# prepare GIS data to calculate profile locations\n",
    "lat1 = df_gis.iloc[0, 1]\n",
    "lng1 = df_gis.iloc[0, 2]\n",
    "\n",
    "lat2 = df_gis.iloc[1, 1]\n",
    "lng2 = df_gis.iloc[1, 2]\n"
   ]
  },
  {
   "cell_type": "code",
   "execution_count": 189,
   "metadata": {},
   "outputs": [
    {
     "data": {
      "text/plain": [
       "178.631056183308"
      ]
     },
     "execution_count": 189,
     "metadata": {},
     "output_type": "execute_result"
    }
   ],
   "source": [
    "# calculating length of the whole profile\n",
    "HEP_dist = getPathLength(lat1,lng1,lat2,lng2)\n",
    "HEP_dist"
   ]
  },
  {
   "cell_type": "code",
   "execution_count": 190,
   "metadata": {},
   "outputs": [
    {
     "data": {
      "text/plain": [
       "1.5808058069319293"
      ]
     },
     "execution_count": 190,
     "metadata": {},
     "output_type": "execute_result"
    }
   ],
   "source": [
    "# calculate actual step of measurements - HEP_dist / count of df_res\n",
    "HEP_step = HEP_dist / (df_res.shape[0] - 1)\n",
    "HEP_step"
   ]
  },
  {
   "cell_type": "code",
   "execution_count": 191,
   "metadata": {},
   "outputs": [
    {
     "data": {
      "text/plain": [
       "21.371741030871533"
      ]
     },
     "execution_count": 191,
     "metadata": {},
     "output_type": "execute_result"
    }
   ],
   "source": [
    "# calculate direction (azimuth or bearing of the profile)\n",
    "HEP_dir = calculateBearing(lat1,lng1,lat2,lng2)\n",
    "HEP_dir"
   ]
  },
  {
   "cell_type": "code",
   "execution_count": 192,
   "metadata": {},
   "outputs": [
    {
     "data": {
      "text/plain": [
       "[[56.039415, 37.167798],\n",
       " [56.03942822420032, 37.16780726383583],\n",
       " [56.039441448399955, 37.16781652767803],\n",
       " [56.039454672598914, 37.16782579152657],\n",
       " [56.039467896797156, 37.16783505538146],\n",
       " [56.039481120994715, 37.1678443192427],\n",
       " [56.03949434519157, 37.16785358311028],\n",
       " [56.03950756938773, 37.167862846984214],\n",
       " [56.03952079358319, 37.1678721108645],\n",
       " [56.03953401777798, 37.16788137475114],\n",
       " [56.03954724197206, 37.167890638644124],\n",
       " [56.039560466165454, 37.16789990254345],\n",
       " [56.03957369035814, 37.16790916644914],\n",
       " [56.039586914550156, 37.167918430361176],\n",
       " [56.039600138741456, 37.167927694279555],\n",
       " [56.03961336293207, 37.16793695820429],\n",
       " [56.039626587121994, 37.16794622213537],\n",
       " [56.039639811311226, 37.1679554860728],\n",
       " [56.039653035499754, 37.16796475001658],\n",
       " [56.0396662596876, 37.167974013966706],\n",
       " [56.03967948387472, 37.167983277923184],\n",
       " [56.03969270806118, 37.167992541886015],\n",
       " [56.03970593224693, 37.168001805855184],\n",
       " [56.03971915643199, 37.16801106983071],\n",
       " [56.039732380616364, 37.16802033381259],\n",
       " [56.039745604800025, 37.16802959780082],\n",
       " [56.03975882898301, 37.168038861795395],\n",
       " [56.0397720531653, 37.16804812579632],\n",
       " [56.0397852773469, 37.16805738980359],\n",
       " [56.03979850152779, 37.16806665381721],\n",
       " [56.039811725708, 37.168075917837186],\n",
       " [56.039824949887496, 37.16808518186351],\n",
       " [56.03983817406632, 37.16809444589618],\n",
       " [56.03985139824445, 37.1681037099352],\n",
       " [56.039864622421874, 37.16811297398057],\n",
       " [56.03987784659861, 37.168122238032296],\n",
       " [56.039891070774644, 37.16813150209036],\n",
       " [56.039904294949984, 37.168140766154785],\n",
       " [56.03991751912465, 37.168150030225554],\n",
       " [56.0399307432986, 37.168159294302676],\n",
       " [56.03994396747184, 37.16816855838614],\n",
       " [56.03995719164444, 37.16817782247596],\n",
       " [56.0399704158163, 37.168187086572125],\n",
       " [56.0399836399875, 37.16819635067464],\n",
       " [56.03999686415796, 37.16820561478351],\n",
       " [56.04001008832776, 37.16821487889872],\n",
       " [56.040023312496864, 37.16822414302029],\n",
       " [56.04003653666527, 37.16823340714821],\n",
       " [56.04004976083298, 37.16824267128247],\n",
       " [56.040062985, 37.168251935423086],\n",
       " [56.04007620916632, 37.168261199570054],\n",
       " [56.04008943333195, 37.16827046372337],\n",
       " [56.04010265749689, 37.16827972788303],\n",
       " [56.04011588166113, 37.16828899204904],\n",
       " [56.04012910582466, 37.168298256221405],\n",
       " [56.04014232998753, 37.16830752040012],\n",
       " [56.040155554149685, 37.16831678458518],\n",
       " [56.04016877831116, 37.16832604877659],\n",
       " [56.04018200247193, 37.16833531297435],\n",
       " [56.040195226631994, 37.168344577178466],\n",
       " [56.04020845079138, 37.16835384138893],\n",
       " [56.040221674950075, 37.168363105605735],\n",
       " [56.040234899108064, 37.168372369828894],\n",
       " [56.040248123265364, 37.168381634058406],\n",
       " [56.04026134742196, 37.16839089829427],\n",
       " [56.04027457157788, 37.16840016253648],\n",
       " [56.04028779573311, 37.16840942678504],\n",
       " [56.04030101988762, 37.168418691039946],\n",
       " [56.04031424404146, 37.168427955301205],\n",
       " [56.0403274681946, 37.16843721956881],\n",
       " [56.04034069234703, 37.16844648384277],\n",
       " [56.040353916498795, 37.16845574812308],\n",
       " [56.04036714064984, 37.16846501240974],\n",
       " [56.0403803648002, 37.16847427670274],\n",
       " [56.04039358894987, 37.168483541002104],\n",
       " [56.04040681309884, 37.16849280530781],\n",
       " [56.040420037247124, 37.16850206961987],\n",
       " [56.04043326139471, 37.16851133393828],\n",
       " [56.0404464855416, 37.16852059826303],\n",
       " [56.04045970968779, 37.16852986259414],\n",
       " [56.040472933833286, 37.1685391269316],\n",
       " [56.04048615797811, 37.1685483912754],\n",
       " [56.040499382122206, 37.168557655625555],\n",
       " [56.04051260626563, 37.16856691998206],\n",
       " [56.04052583040835, 37.16857618434492],\n",
       " [56.04053905455039, 37.168585448714126],\n",
       " [56.04055227869172, 37.16859471308968],\n",
       " [56.040565502832365, 37.16860397747159],\n",
       " [56.040578726972306, 37.168613241859845],\n",
       " [56.04059195111158, 37.16862250625445],\n",
       " [56.040605175250136, 37.16863177065541],\n",
       " [56.040618399388, 37.16864103506271],\n",
       " [56.04063162352518, 37.16865029947637],\n",
       " [56.04064484766165, 37.16865956389637],\n",
       " [56.040658071797445, 37.16866882832272],\n",
       " [56.04067129593254, 37.16867809275543],\n",
       " [56.040684520066925, 37.168687357194486],\n",
       " [56.04069774420063, 37.168696621639896],\n",
       " [56.040710968333634, 37.16870588609165],\n",
       " [56.040724192465966, 37.16871515054975],\n",
       " [56.04073741659759, 37.16872441501421],\n",
       " [56.040750640728504, 37.168733679485015],\n",
       " [56.04076386485873, 37.16874294396217],\n",
       " [56.04077708898828, 37.168752208445675],\n",
       " [56.040790313117114, 37.16876147293553],\n",
       " [56.04080353724526, 37.168770737431736],\n",
       " [56.04081676137272, 37.16878000193429],\n",
       " [56.04082998549949, 37.16878926644319],\n",
       " [56.04084320962555, 37.16879853095845],\n",
       " [56.040856433750925, 37.168807795480056],\n",
       " [56.040869657875604, 37.16881706000801],\n",
       " [56.040882881999586, 37.168826324542316],\n",
       " [56.04089610612288, 37.168835589082974],\n",
       " [56.040911, 37.168846]]"
      ]
     },
     "execution_count": 192,
     "metadata": {},
     "output_type": "execute_result"
    }
   ],
   "source": [
    "# calculating lat-long for all RESa measurements\n",
    "coord_list = coord(HEP_step,HEP_dir,lat1,lng1,lat2,lng2)\n",
    "coord_list"
   ]
  },
  {
   "cell_type": "code",
   "execution_count": 193,
   "metadata": {},
   "outputs": [
    {
     "name": "stdout",
     "output_type": "stream",
     "text": [
      "<class 'pandas.core.frame.DataFrame'>\n",
      "RangeIndex: 114 entries, 0 to 113\n",
      "Data columns (total 2 columns):\n",
      " #   Column  Non-Null Count  Dtype  \n",
      "---  ------  --------------  -----  \n",
      " 0   0       114 non-null    float64\n",
      " 1   1       114 non-null    float64\n",
      "dtypes: float64(2)\n",
      "memory usage: 1.9 KB\n"
     ]
    }
   ],
   "source": [
    "# converting coordinate list to df and merging with RESa data \n",
    "df_ptgis = pd.DataFrame(coord_list)\n",
    "df_ptgis.info()"
   ]
  },
  {
   "cell_type": "code",
   "execution_count": 194,
   "metadata": {},
   "outputs": [
    {
     "name": "stdout",
     "output_type": "stream",
     "text": [
      "<class 'pandas.core.frame.DataFrame'>\n",
      "RangeIndex: 114 entries, 0 to 113\n",
      "Data columns (total 3 columns):\n",
      " #   Column       Non-Null Count  Dtype  \n",
      "---  ------       --------------  -----  \n",
      " 0   Latitude     114 non-null    float64\n",
      " 1   Longitude    114 non-null    float64\n",
      " 2   RESapparent  106 non-null    float64\n",
      "dtypes: float64(3)\n",
      "memory usage: 2.8 KB\n"
     ]
    }
   ],
   "source": [
    "# merge two df and add headers\n",
    "df_erGIS = df_ptgis.join(df_res)\n",
    "df_erGIS.columns = ['Latitude', 'Longitude', 'RESapparent']\n",
    "df_erGIS.info()"
   ]
  },
  {
   "cell_type": "code",
   "execution_count": 195,
   "metadata": {},
   "outputs": [],
   "source": [
    "# add column with file name\n",
    "df_erGIS['data_set'] = filename"
   ]
  },
  {
   "cell_type": "code",
   "execution_count": 196,
   "metadata": {},
   "outputs": [
    {
     "data": {
      "text/plain": [
       "count    106.0\n",
       "mean      82.2\n",
       "std       50.6\n",
       "min       23.6\n",
       "25%       58.8\n",
       "50%       74.9\n",
       "75%       90.9\n",
       "max      498.1\n",
       "Name: RESapparent, dtype: float64"
      ]
     },
     "execution_count": 196,
     "metadata": {},
     "output_type": "execute_result"
    }
   ],
   "source": [
    "# calculating summary statistics\n",
    "df_erGIS['RESapparent'].describe().round(1)"
   ]
  },
  {
   "cell_type": "code",
   "execution_count": 197,
   "metadata": {},
   "outputs": [
    {
     "name": "stdout",
     "output_type": "stream",
     "text": [
      "<class 'pandas.core.frame.DataFrame'>\n",
      "RangeIndex: 114 entries, 0 to 113\n",
      "Data columns (total 4 columns):\n",
      " #   Column       Non-Null Count  Dtype  \n",
      "---  ------       --------------  -----  \n",
      " 0   Latitude     114 non-null    float64\n",
      " 1   Longitude    114 non-null    float64\n",
      " 2   RESapparent  106 non-null    float64\n",
      " 3   data_set     114 non-null    object \n",
      "dtypes: float64(3), object(1)\n",
      "memory usage: 3.7+ KB\n"
     ]
    }
   ],
   "source": [
    "df_erGIS.info()"
   ]
  },
  {
   "cell_type": "code",
   "execution_count": 198,
   "metadata": {},
   "outputs": [],
   "source": [
    "# saving results as CSV - individual file\n",
    "\n",
    "df_erGIS.to_csv('gis_' + filename + '.csv', index=False)\n"
   ]
  },
  {
   "cell_type": "code",
   "execution_count": 178,
   "metadata": {},
   "outputs": [],
   "source": [
    "all_erGIS.drop(all_erGIS[all_erGIS['data_set'] == 'hep_4a'].index, inplace=True)"
   ]
  },
  {
   "cell_type": "code",
   "execution_count": 179,
   "metadata": {},
   "outputs": [
    {
     "name": "stdout",
     "output_type": "stream",
     "text": [
      "<class 'pandas.core.frame.DataFrame'>\n",
      "Int64Index: 14 entries, 78 to 85\n",
      "Data columns (total 5 columns):\n",
      " #   Column       Non-Null Count  Dtype  \n",
      "---  ------       --------------  -----  \n",
      " 0   Latitude     14 non-null     float64\n",
      " 1   Longitude    14 non-null     float64\n",
      " 2   RESapparent  14 non-null     float64\n",
      " 3   data_set     14 non-null     object \n",
      " 4   Comments     8 non-null      object \n",
      "dtypes: float64(3), object(2)\n",
      "memory usage: 672.0+ bytes\n"
     ]
    }
   ],
   "source": [
    "all_erGIS.info()"
   ]
  },
  {
   "cell_type": "code",
   "execution_count": 199,
   "metadata": {},
   "outputs": [
    {
     "name": "stdout",
     "output_type": "stream",
     "text": [
      "<class 'pandas.core.frame.DataFrame'>\n",
      "RangeIndex: 292 entries, 0 to 291\n",
      "Data columns (total 5 columns):\n",
      " #   Column       Non-Null Count  Dtype  \n",
      "---  ------       --------------  -----  \n",
      " 0   Latitude     292 non-null    float64\n",
      " 1   Longitude    292 non-null    float64\n",
      " 2   RESapparent  292 non-null    float64\n",
      " 3   data_set     292 non-null    object \n",
      " 4   Comments     158 non-null    object \n",
      "dtypes: float64(3), object(2)\n",
      "memory usage: 11.5+ KB\n"
     ]
    }
   ],
   "source": [
    "all_erGIS = pd.read_csv('gis23_hep_all.csv')\n",
    "all_erGIS.info()"
   ]
  },
  {
   "cell_type": "code",
   "execution_count": 205,
   "metadata": {},
   "outputs": [],
   "source": [
    "# appending all processed data sets to one df and CSV - with labels of individual files\n",
    "\n",
    "#all_erGIS = pd.DataFrame() #- initiate empty DF at the start, then comment out\n",
    "all_erGIS = pd.concat([all_erGIS, df_4a], axis=0)\n"
   ]
  },
  {
   "cell_type": "code",
   "execution_count": 206,
   "metadata": {},
   "outputs": [
    {
     "name": "stdout",
     "output_type": "stream",
     "text": [
      "<class 'pandas.core.frame.DataFrame'>\n",
      "Int64Index: 484 entries, 0 to 77\n",
      "Data columns (total 5 columns):\n",
      " #   Column       Non-Null Count  Dtype  \n",
      "---  ------       --------------  -----  \n",
      " 0   Latitude     484 non-null    float64\n",
      " 1   Longitude    484 non-null    float64\n",
      " 2   RESapparent  476 non-null    float64\n",
      " 3   data_set     484 non-null    object \n",
      " 4   Comments     158 non-null    object \n",
      "dtypes: float64(3), object(2)\n",
      "memory usage: 22.7+ KB\n"
     ]
    }
   ],
   "source": [
    "all_erGIS.info()"
   ]
  },
  {
   "cell_type": "code",
   "execution_count": 203,
   "metadata": {},
   "outputs": [],
   "source": [
    "#append 4a CSV\n",
    "\n",
    "df_4a = pd.read_csv('gis_hep_4a.csv')"
   ]
  },
  {
   "cell_type": "code",
   "execution_count": 204,
   "metadata": {},
   "outputs": [
    {
     "name": "stdout",
     "output_type": "stream",
     "text": [
      "<class 'pandas.core.frame.DataFrame'>\n",
      "RangeIndex: 78 entries, 0 to 77\n",
      "Data columns (total 4 columns):\n",
      " #   Column       Non-Null Count  Dtype  \n",
      "---  ------       --------------  -----  \n",
      " 0   Latitude     78 non-null     float64\n",
      " 1   Longitude    78 non-null     float64\n",
      " 2   RESapparent  78 non-null     float64\n",
      " 3   data_set     78 non-null     object \n",
      "dtypes: float64(3), object(1)\n",
      "memory usage: 2.6+ KB\n"
     ]
    }
   ],
   "source": [
    "df_4a.info()"
   ]
  },
  {
   "cell_type": "code",
   "execution_count": 208,
   "metadata": {},
   "outputs": [
    {
     "data": {
      "text/html": [
       "<div>\n",
       "<style scoped>\n",
       "    .dataframe tbody tr th:only-of-type {\n",
       "        vertical-align: middle;\n",
       "    }\n",
       "\n",
       "    .dataframe tbody tr th {\n",
       "        vertical-align: top;\n",
       "    }\n",
       "\n",
       "    .dataframe thead th {\n",
       "        text-align: right;\n",
       "    }\n",
       "</style>\n",
       "<table border=\"1\" class=\"dataframe\">\n",
       "  <thead>\n",
       "    <tr style=\"text-align: right;\">\n",
       "      <th></th>\n",
       "      <th>Latitude</th>\n",
       "      <th>Longitude</th>\n",
       "      <th>RESapparent</th>\n",
       "    </tr>\n",
       "  </thead>\n",
       "  <tbody>\n",
       "    <tr>\n",
       "      <th>count</th>\n",
       "      <td>484.0</td>\n",
       "      <td>484.0</td>\n",
       "      <td>476.0</td>\n",
       "    </tr>\n",
       "    <tr>\n",
       "      <th>mean</th>\n",
       "      <td>56.0</td>\n",
       "      <td>37.2</td>\n",
       "      <td>515.5</td>\n",
       "    </tr>\n",
       "    <tr>\n",
       "      <th>std</th>\n",
       "      <td>0.0</td>\n",
       "      <td>0.0</td>\n",
       "      <td>612.5</td>\n",
       "    </tr>\n",
       "    <tr>\n",
       "      <th>min</th>\n",
       "      <td>56.0</td>\n",
       "      <td>37.2</td>\n",
       "      <td>23.6</td>\n",
       "    </tr>\n",
       "    <tr>\n",
       "      <th>25%</th>\n",
       "      <td>56.0</td>\n",
       "      <td>37.2</td>\n",
       "      <td>91.6</td>\n",
       "    </tr>\n",
       "    <tr>\n",
       "      <th>50%</th>\n",
       "      <td>56.0</td>\n",
       "      <td>37.2</td>\n",
       "      <td>176.8</td>\n",
       "    </tr>\n",
       "    <tr>\n",
       "      <th>75%</th>\n",
       "      <td>56.0</td>\n",
       "      <td>37.2</td>\n",
       "      <td>962.7</td>\n",
       "    </tr>\n",
       "    <tr>\n",
       "      <th>max</th>\n",
       "      <td>56.0</td>\n",
       "      <td>37.2</td>\n",
       "      <td>3304.0</td>\n",
       "    </tr>\n",
       "  </tbody>\n",
       "</table>\n",
       "</div>"
      ],
      "text/plain": [
       "       Latitude  Longitude  RESapparent\n",
       "count     484.0      484.0        476.0\n",
       "mean       56.0       37.2        515.5\n",
       "std         0.0        0.0        612.5\n",
       "min        56.0       37.2         23.6\n",
       "25%        56.0       37.2         91.6\n",
       "50%        56.0       37.2        176.8\n",
       "75%        56.0       37.2        962.7\n",
       "max        56.0       37.2       3304.0"
      ]
     },
     "execution_count": 208,
     "metadata": {},
     "output_type": "execute_result"
    }
   ],
   "source": [
    "all_erGIS.describe().round(1)"
   ]
  },
  {
   "cell_type": "code",
   "execution_count": 219,
   "metadata": {},
   "outputs": [
    {
     "data": {
      "text/plain": [
       "array([[<AxesSubplot: title={'center': 'hep_1'}>,\n",
       "        <AxesSubplot: title={'center': 'hep_2'}>],\n",
       "       [<AxesSubplot: title={'center': 'hep_3-1'}>,\n",
       "        <AxesSubplot: title={'center': 'hep_3-2'}>],\n",
       "       [<AxesSubplot: title={'center': 'hep_4a'}>,\n",
       "        <AxesSubplot: title={'center': 'hep_5'}>]], dtype=object)"
      ]
     },
     "execution_count": 219,
     "metadata": {},
     "output_type": "execute_result"
    },
    {
     "data": {
      "image/png": "[encoded data removed]",
      "text/plain": [
       "<Figure size 800x800 with 6 Axes>"
      ]
     },
     "metadata": {},
     "output_type": "display_data"
    }
   ],
   "source": [
    "all_erGIS['RESapparent'].hist(bins=20, by=all_erGIS['data_set'], edgecolor='black', figsize=(8,8))"
   ]
  },
  {
   "cell_type": "code",
   "execution_count": 220,
   "metadata": {},
   "outputs": [
    {
     "name": "stdout",
     "output_type": "stream",
     "text": [
      "<class 'pandas.core.frame.DataFrame'>\n",
      "Int64Index: 484 entries, 0 to 77\n",
      "Data columns (total 5 columns):\n",
      " #   Column       Non-Null Count  Dtype  \n",
      "---  ------       --------------  -----  \n",
      " 0   Latitude     484 non-null    float64\n",
      " 1   Longitude    484 non-null    float64\n",
      " 2   RESapparent  476 non-null    float64\n",
      " 3   data_set     484 non-null    object \n",
      " 4   Comments     158 non-null    object \n",
      "dtypes: float64(3), object(2)\n",
      "memory usage: 22.7+ KB\n"
     ]
    }
   ],
   "source": [
    "df = all_erGIS.copy()\n",
    "df.info()"
   ]
  },
  {
   "cell_type": "code",
   "execution_count": 230,
   "metadata": {},
   "outputs": [
    {
     "data": {
      "image/png": "[encoded data removed]",
      "text/plain": [
       "<Figure size 1200x500 with 1 Axes>"
      ]
     },
     "metadata": {},
     "output_type": "display_data"
    },
    {
     "name": "stdout",
     "output_type": "stream",
     "text": [
      "File with graph created, you can run other location now!\n"
     ]
    },
    {
     "data": {
      "text/plain": [
       "<Figure size 1200x500 with 0 Axes>"
      ]
     },
     "metadata": {},
     "output_type": "display_data"
    }
   ],
   "source": [
    "import matplotlib.pyplot as plt\n",
    "plt.rc('figure', figsize=(12, 5))   # this is to overwrite default aspect of graph \n",
    "                                          #to make x-axis longer for modern slides\n",
    "\n",
    "#define points values by group\n",
    "A = df.loc[df['data_set'] == 'hep_1', 'RESapparent']\n",
    "B = df.loc[df['data_set'] == 'hep_2', 'RESapparent']\n",
    "C = df.loc[df['data_set'] == 'hep_5', 'RESapparent']\n",
    "D = df.loc[df['data_set'] == 'hep_4a', 'RESapparent']\n",
    "E = df.loc[df['data_set'] == 'hep_3-1', 'RESapparent']\n",
    "F = df.loc[df['data_set'] == 'hep_3-2', 'RESapparent']\n",
    "\n",
    "#add three histograms to one plot\n",
    "plt.hist(B, alpha=0.5, label='Бригада 2 - пашня')\n",
    "plt.hist(C, alpha=0.5, label='Бригада 5 - пашня')\n",
    "plt.hist(A, alpha=0.5, label='Бригада 1 - пашня')\n",
    "plt.hist(D, alpha=0.5, label='Бригада 4 - луг')\n",
    "plt.hist(E, alpha=0.5, label='Бригада 3 - лес: вниз по склону')\n",
    "plt.hist(F, alpha=0.5, label='Бригада 3 - лес: вдоль склона')\n",
    "\n",
    "#add plot title and axis labels\n",
    "plt.title('ГЭП 2023: Практика по Физике Почв в АБЦ МГУ Чашниково')\n",
    "plt.xlabel('УЭС, Ом м')\n",
    "plt.ylabel('Количество измерений')\n",
    "\n",
    "#add legend\n",
    "plt.legend(title='')\n",
    "\n",
    "plt.savefig('2023-HEP-Chashnikovo.png',dpi=300,transparent=False)\n",
    "\n",
    "#display plot\n",
    "plt.show()\n",
    "print('File with graph created, you can run other location now!')"
   ]
  },
  {
   "cell_type": "code",
   "execution_count": null,
   "metadata": {},
   "outputs": [],
   "source": []
  },
  {
   "cell_type": "code",
   "execution_count": 207,
   "metadata": {},
   "outputs": [],
   "source": [
    "# all CSV to file\n",
    "all_erGIS.to_csv('gis23_hep_all.csv', index=False)\n"
   ]
  }
 ],
 "metadata": {
  "kernelspec": {
   "display_name": ".venv38eo",
   "language": "python",
   "name": "python3"
  },
  "language_info": {
   "codemirror_mode": {
    "name": "ipython",
    "version": 3
   },
   "file_extension": ".py",
   "mimetype": "text/x-python",
   "name": "python",
   "nbconvert_exporter": "python",
   "pygments_lexer": "ipython3",
   "version": "3.8.10"
  },
  "orig_nbformat": 4
 },
 "nbformat": 4,
 "nbformat_minor": 2
}
