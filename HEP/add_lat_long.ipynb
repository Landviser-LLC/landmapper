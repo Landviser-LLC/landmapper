{
 "cells": [
  {
   "cell_type": "markdown",
   "metadata": {},
   "source": [
    "### GIS data preparation"
   ]
  },
  {
   "cell_type": "markdown",
   "metadata": {},
   "source": [
    "the solution found at https://gis.stackexchange.com/questions/157693/getting-all-vertex-lat-long-coordinates-every-1-meter-between-two-known-points\n",
    "refering to http://www.movable-type.co.uk/scripts/latlong.html which has formulas in Java Script and for Excel\n",
    "\n",
    "Python function adaptations\n"
   ]
  },
  {
   "cell_type": "markdown",
   "metadata": {},
   "source": [
    "#### Importing all needed modules and libraries"
   ]
  },
  {
   "cell_type": "code",
   "execution_count": 5,
   "metadata": {},
   "outputs": [],
   "source": [
    "import pandas as pd\n",
    "import math"
   ]
  },
  {
   "cell_type": "markdown",
   "metadata": {},
   "source": [
    "#### GIS functions needed for coordinates calculation"
   ]
  },
  {
   "cell_type": "code",
   "execution_count": 6,
   "metadata": {},
   "outputs": [],
   "source": [
    "def getPathLength(lat1,lng1,lat2,lng2):\n",
    "    '''calculates the distance between two lat, long coordinate pairs'''\n",
    "    R = 6371000 # radius of earth in m\n",
    "    lat1rads = math.radians(lat1)\n",
    "    lat2rads = math.radians(lat2)\n",
    "    deltaLat = math.radians((lat2-lat1))\n",
    "    deltaLng = math.radians((lng2-lng1))\n",
    "    a = math.sin(deltaLat/2) * math.sin(deltaLat/2) + math.cos(lat1rads) * math.cos(lat2rads) * math.sin(deltaLng/2) * math.sin(deltaLng/2)\n",
    "    c = 2 * math.atan2(math.sqrt(a), math.sqrt(1-a))\n",
    "    d = R * c\n",
    "    return d\n",
    "\n",
    "def calculateBearing(lat1,lng1,lat2,lng2):\n",
    "    '''calculates the azimuth in degrees from start point to end point'''\n",
    "    startLat = math.radians(lat1)\n",
    "    startLong = math.radians(lng1)\n",
    "    endLat = math.radians(lat2)\n",
    "    endLong = math.radians(lng2)\n",
    "    dLong = endLong - startLong\n",
    "    dPhi = math.log(math.tan(endLat/2.0+math.pi/4.0)/math.tan(startLat/2.0+math.pi/4.0))\n",
    "    if abs(dLong) > math.pi:\n",
    "         if dLong > 0.0:\n",
    "             dLong = -(2.0 * math.pi - dLong)\n",
    "         else:\n",
    "             dLong = (2.0 * math.pi + dLong)\n",
    "    bearing = (math.degrees(math.atan2(dLong, dPhi)) + 360.0) % 360.0;\n",
    "    return bearing\n",
    "\n",
    "def getDestinationLatLong(lat,lng,azimuth,distance):\n",
    "    '''returns the lat and long of destination point \n",
    "    given the start lat, long, aziuth, and distance'''\n",
    "    R = 6378.1 #Radius of the Earth in km\n",
    "    brng = math.radians(azimuth) #Bearing is degrees converted to radians.\n",
    "    d = distance/1000 #Distance m converted to km\n",
    "    lat1 = math.radians(lat) #Current dd lat point converted to radians\n",
    "    lon1 = math.radians(lng) #Current dd long point converted to radians\n",
    "    lat2 = math.asin(math.sin(lat1) * math.cos(d/R) + math.cos(lat1)* math.sin(d/R)* math.cos(brng))\n",
    "    lon2 = lon1 + math.atan2(math.sin(brng) * math.sin(d/R)* math.cos(lat1), math.cos(d/R)- math.sin(lat1)* math.sin(lat2))\n",
    "    #convert back to degrees\n",
    "    lat2 = math.degrees(lat2)\n",
    "    lon2 = math.degrees(lon2)\n",
    "    return[lat2, lon2]\n"
   ]
  },
  {
   "cell_type": "markdown",
   "metadata": {},
   "source": [
    "#### Load GIS and Apparent Resistivity data for HEP from CSV file"
   ]
  },
  {
   "cell_type": "code",
   "execution_count": 88,
   "metadata": {},
   "outputs": [
    {
     "name": "stdout",
     "output_type": "stream",
     "text": [
      "<class 'pandas.core.frame.DataFrame'>\n",
      "RangeIndex: 78 entries, 0 to 77\n",
      "Data columns (total 1 columns):\n",
      " #   Column       Non-Null Count  Dtype  \n",
      "---  ------       --------------  -----  \n",
      " 0   148.6981132  78 non-null     float64\n",
      "dtypes: float64(1)\n",
      "memory usage: 752.0 bytes\n"
     ]
    }
   ],
   "source": [
    "# load CSV in dictionary and df\n",
    "# RESa data df\n",
    "df_res = pd.read_csv('hep_4a.csv', skiprows=3)\n",
    "#df_res = pd.read_csv('hep_5.csv', skiprows=6)\n",
    "#df_res = pd.read_csv('hep_2.csv', skiprows=6)\n",
    "df_res.dropna(axis=1, how='all', inplace=True)\n",
    "df_res.info()\n"
   ]
  },
  {
   "cell_type": "code",
   "execution_count": 89,
   "metadata": {},
   "outputs": [
    {
     "name": "stdout",
     "output_type": "stream",
     "text": [
      "148.6981132    count 78\n",
      "dtype: object\n"
     ]
    },
    {
     "data": {
      "text/plain": [
       "78"
      ]
     },
     "execution_count": 89,
     "metadata": {},
     "output_type": "execute_result"
    }
   ],
   "source": [
    "print('count ' + df_res.count().astype(str))\n",
    "df_res.shape[0]\n",
    "#print('number of rows ' + len(df_res.index).astype(str))"
   ]
  },
  {
   "cell_type": "code",
   "execution_count": 77,
   "metadata": {},
   "outputs": [
    {
     "data": {
      "text/plain": [
       "1.8849555921538759"
      ]
     },
     "execution_count": 77,
     "metadata": {},
     "output_type": "execute_result"
    }
   ],
   "source": [
    "# calculate K - Wenner\n",
    "mn = 0.30\n",
    "Kgeom = 2 * math.pi * mn\n",
    "Kgeom"
   ]
  },
  {
   "cell_type": "code",
   "execution_count": 90,
   "metadata": {},
   "outputs": [
    {
     "data": {
      "text/html": [
       "<div>\n",
       "<style scoped>\n",
       "    .dataframe tbody tr th:only-of-type {\n",
       "        vertical-align: middle;\n",
       "    }\n",
       "\n",
       "    .dataframe tbody tr th {\n",
       "        vertical-align: top;\n",
       "    }\n",
       "\n",
       "    .dataframe thead th {\n",
       "        text-align: right;\n",
       "    }\n",
       "</style>\n",
       "<table border=\"1\" class=\"dataframe\">\n",
       "  <thead>\n",
       "    <tr style=\"text-align: right;\">\n",
       "      <th></th>\n",
       "      <th>0</th>\n",
       "      <th>1</th>\n",
       "      <th>2</th>\n",
       "    </tr>\n",
       "  </thead>\n",
       "  <tbody>\n",
       "    <tr>\n",
       "      <th>0</th>\n",
       "      <td>Начало</td>\n",
       "      <td>56.038640</td>\n",
       "      <td>37.165744</td>\n",
       "    </tr>\n",
       "    <tr>\n",
       "      <th>1</th>\n",
       "      <td>Конец</td>\n",
       "      <td>56.039234</td>\n",
       "      <td>37.166315</td>\n",
       "    </tr>\n",
       "    <tr>\n",
       "      <th>2</th>\n",
       "      <td>шаг</td>\n",
       "      <td>1.000000</td>\n",
       "      <td>NaN</td>\n",
       "    </tr>\n",
       "  </tbody>\n",
       "</table>\n",
       "</div>"
      ],
      "text/plain": [
       "        0          1          2\n",
       "0  Начало  56.038640  37.165744\n",
       "1   Конец  56.039234  37.166315\n",
       "2     шаг   1.000000        NaN"
      ]
     },
     "execution_count": 90,
     "metadata": {},
     "output_type": "execute_result"
    }
   ],
   "source": [
    "# load start and finish points of HEP profile to a separate df\n",
    "df_gis = pd.read_csv('hep_4a.csv', nrows=3, header=None)\n",
    "df_gis"
   ]
  },
  {
   "cell_type": "code",
   "execution_count": 91,
   "metadata": {},
   "outputs": [],
   "source": [
    "# prepare GIS data to calculate profile locations\n",
    "lat1 = df_gis.iloc[0, 1]\n",
    "lng1 = df_gis.iloc[0, 2]\n",
    "\n",
    "lat2 = df_gis.iloc[1, 1]\n",
    "lng2 = df_gis.iloc[1, 2]\n"
   ]
  },
  {
   "cell_type": "code",
   "execution_count": 92,
   "metadata": {},
   "outputs": [
    {
     "data": {
      "text/plain": [
       "74.97066453126777"
      ]
     },
     "execution_count": 92,
     "metadata": {},
     "output_type": "execute_result"
    }
   ],
   "source": [
    "# calculating length of the whole profile\n",
    "HEP_dist = getPathLength(lat1,lng1,lat2,lng2)\n",
    "HEP_dist"
   ]
  },
  {
   "cell_type": "code",
   "execution_count": 93,
   "metadata": {},
   "outputs": [
    {
     "data": {
      "text/plain": [
       "0.9736449939125684"
      ]
     },
     "execution_count": 93,
     "metadata": {},
     "output_type": "execute_result"
    }
   ],
   "source": [
    "# calculate actual step of measurements - HEP_dist / count of df_res\n",
    "HEP_step = HEP_dist / (df_res.shape[0] - 1)\n",
    "HEP_step"
   ]
  },
  {
   "cell_type": "code",
   "execution_count": 94,
   "metadata": {},
   "outputs": [
    {
     "data": {
      "text/plain": [
       "28.235751662836492"
      ]
     },
     "execution_count": 94,
     "metadata": {},
     "output_type": "execute_result"
    }
   ],
   "source": [
    "# calculate direction (azimuth or bearing of the profile)\n",
    "HEP_dir = calculateBearing(lat1,lng1,lat2,lng2)\n",
    "HEP_dir"
   ]
  },
  {
   "cell_type": "code",
   "execution_count": 80,
   "metadata": {},
   "outputs": [],
   "source": [
    "def coord(interval,azimuth,lat1,lng1,lat2,lng2):\n",
    "    '''returns every coordinate pair between two coordinate \n",
    "    pairs given the desired interval'''\n",
    "\n",
    "    d = getPathLength(lat1,lng1,lat2,lng2)\n",
    "    remainder, dist = math.modf((d / interval))\n",
    "    counter = float(interval)\n",
    "    coords = []\n",
    "    coords.append([lat1,lng1])\n",
    "    for distance in range(1,int(dist)):       # have to modify from original as it did not take into account the beginning/end point coordinates\n",
    "        coord = getDestinationLatLong(lat1,lng1,azimuth,counter)\n",
    "        counter = counter + float(interval)\n",
    "        coords.append(coord)\n",
    "    coords.append([lat2,lng2])\n",
    "    return coords"
   ]
  },
  {
   "cell_type": "code",
   "execution_count": 95,
   "metadata": {},
   "outputs": [
    {
     "data": {
      "text/plain": [
       "[[56.03864, 37.165744],\n",
       " [56.03864770569808, 37.16575140727397],\n",
       " [56.03865541139571, 37.165758814550905],\n",
       " [56.03866311709289, 37.1657662218308],\n",
       " [56.03867082278962, 37.165773629113644],\n",
       " [56.038678528485924, 37.16578103639946],\n",
       " [56.038686234181775, 37.16578844368822],\n",
       " [56.038693939877184, 37.16579585097994],\n",
       " [56.038701645572154, 37.16580325827463],\n",
       " [56.038709351266675, 37.16581066557226],\n",
       " [56.038717056960756, 37.16581807287286],\n",
       " [56.03872476265438, 37.16582548017642],\n",
       " [56.038732468347575, 37.16583288748293],\n",
       " [56.038740174040335, 37.1658402947924],\n",
       " [56.038747879732625, 37.16584770210484],\n",
       " [56.03875558542448, 37.16585510942023],\n",
       " [56.03876329111591, 37.16586251673858],\n",
       " [56.03877099680689, 37.165869924059876],\n",
       " [56.0387787024974, 37.16587733138414],\n",
       " [56.038786408187484, 37.16588473871136],\n",
       " [56.03879411387713, 37.16589214604154],\n",
       " [56.03880181956633, 37.16589955337468],\n",
       " [56.03880952525509, 37.165906960710785],\n",
       " [56.0388172309434, 37.16591436804983],\n",
       " [56.038824936631265, 37.165921775391844],\n",
       " [56.03883264231868, 37.16592918273682],\n",
       " [56.03884034800565, 37.16593659008474],\n",
       " [56.03884805369219, 37.16594399743563],\n",
       " [56.03885575937829, 37.16595140478948],\n",
       " [56.03886346506394, 37.165958812146286],\n",
       " [56.03887117074914, 37.165966219506046],\n",
       " [56.03887887643391, 37.16597362686877],\n",
       " [56.03888658211821, 37.16598103423444],\n",
       " [56.038894287802094, 37.16598844160308],\n",
       " [56.038901993485524, 37.165995848974674],\n",
       " [56.03890969916851, 37.16600325634923],\n",
       " [56.03891740485105, 37.16601066372674],\n",
       " [56.03892511053316, 37.16601807110721],\n",
       " [56.03893281621481, 37.16602547849064],\n",
       " [56.03894052189601, 37.16603288587703],\n",
       " [56.03894822757678, 37.16604029326637],\n",
       " [56.03895593325711, 37.16604770065867],\n",
       " [56.03896363893698, 37.16605510805393],\n",
       " [56.038971344616414, 37.166062515452154],\n",
       " [56.03897905029542, 37.16606992285333],\n",
       " [56.03898675597395, 37.166077330257465],\n",
       " [56.03899446165206, 37.16608473766456],\n",
       " [56.03900216732973, 37.166092145074614],\n",
       " [56.03900987300694, 37.166099552487616],\n",
       " [56.03901757868372, 37.166106959903594],\n",
       " [56.039025284360044, 37.166114367322514],\n",
       " [56.03903299003593, 37.166121774744404],\n",
       " [56.03904069571137, 37.16612918216924],\n",
       " [56.039048401386374, 37.166136589597045],\n",
       " [56.03905610706093, 37.16614399702781],\n",
       " [56.03906381273504, 37.16615140446152],\n",
       " [56.03907151840871, 37.1661588118982],\n",
       " [56.039079224081924, 37.16616621933783],\n",
       " [56.039086929754696, 37.16617362678043],\n",
       " [56.03909463542705, 37.16618103422598],\n",
       " [56.03910234109894, 37.166188441674485],\n",
       " [56.03911004677039, 37.166195849125955],\n",
       " [56.03911775244139, 37.16620325658038],\n",
       " [56.03912545811195, 37.16621066403777],\n",
       " [56.039133163782076, 37.16621807149811],\n",
       " [56.039140869451735, 37.16622547896141],\n",
       " [56.039148575120976, 37.16623288642767],\n",
       " [56.03915628078977, 37.166240293896884],\n",
       " [56.0391639864581, 37.166247701369066],\n",
       " [56.039171692126, 37.1662551088442],\n",
       " [56.03917939779346, 37.16626251632229],\n",
       " [56.03918710346047, 37.166269923803334],\n",
       " [56.03919480912704, 37.16627733128735],\n",
       " [56.03920251479317, 37.166284738774316],\n",
       " [56.03921022045884, 37.16629214626424],\n",
       " [56.03921792612408, 37.16629955375713],\n",
       " [56.03922563178887, 37.16630696125297],\n",
       " [56.039234, 37.166315]]"
      ]
     },
     "execution_count": 95,
     "metadata": {},
     "output_type": "execute_result"
    }
   ],
   "source": [
    "# calculating lat-long for all RESa measurements\n",
    "coord_list = coord(HEP_step,HEP_dir,lat1,lng1,lat2,lng2)\n",
    "coord_list"
   ]
  },
  {
   "cell_type": "code",
   "execution_count": 96,
   "metadata": {},
   "outputs": [
    {
     "name": "stdout",
     "output_type": "stream",
     "text": [
      "<class 'pandas.core.frame.DataFrame'>\n",
      "RangeIndex: 78 entries, 0 to 77\n",
      "Data columns (total 2 columns):\n",
      " #   Column  Non-Null Count  Dtype  \n",
      "---  ------  --------------  -----  \n",
      " 0   0       78 non-null     float64\n",
      " 1   1       78 non-null     float64\n",
      "dtypes: float64(2)\n",
      "memory usage: 1.3 KB\n"
     ]
    }
   ],
   "source": [
    "# converting coordinate list to df and merging with RESa data \n",
    "df_ptgis = pd.DataFrame(coord_list)\n",
    "df_ptgis.info()"
   ]
  },
  {
   "cell_type": "code",
   "execution_count": 97,
   "metadata": {},
   "outputs": [
    {
     "name": "stdout",
     "output_type": "stream",
     "text": [
      "<class 'pandas.core.frame.DataFrame'>\n",
      "RangeIndex: 78 entries, 0 to 77\n",
      "Data columns (total 3 columns):\n",
      " #   Column       Non-Null Count  Dtype  \n",
      "---  ------       --------------  -----  \n",
      " 0   Latitude     78 non-null     float64\n",
      " 1   Longitude    78 non-null     float64\n",
      " 2   RESapparent  78 non-null     float64\n",
      "dtypes: float64(3)\n",
      "memory usage: 2.0 KB\n"
     ]
    }
   ],
   "source": [
    "# merge two df and add headers\n",
    "df_erGIS = df_ptgis.join(df_res)\n",
    "df_erGIS.columns = ['Latitude', 'Longitude', 'RESapparent']\n",
    "df_erGIS.info()"
   ]
  },
  {
   "cell_type": "code",
   "execution_count": 98,
   "metadata": {},
   "outputs": [],
   "source": [
    "# add REScorrect\n",
    "df_erGIS['REScorrect'] = df_erGIS['RESapparent'] * Kgeom / 2.13"
   ]
  },
  {
   "cell_type": "code",
   "execution_count": 99,
   "metadata": {},
   "outputs": [
    {
     "data": {
      "text/plain": [
       "count     78.0\n",
       "mean     166.5\n",
       "std       43.2\n",
       "min       88.2\n",
       "25%      129.2\n",
       "50%      163.6\n",
       "75%      200.8\n",
       "max      254.1\n",
       "Name: RESapparent, dtype: float64"
      ]
     },
     "execution_count": 99,
     "metadata": {},
     "output_type": "execute_result"
    }
   ],
   "source": [
    "# calculating summary statistics\n",
    "df_erGIS['RESapparent'].describe().round(1)"
   ]
  },
  {
   "cell_type": "code",
   "execution_count": 100,
   "metadata": {},
   "outputs": [
    {
     "data": {
      "text/plain": [
       "count     78.0\n",
       "mean     147.3\n",
       "std       38.2\n",
       "min       78.1\n",
       "25%      114.3\n",
       "50%      144.8\n",
       "75%      177.7\n",
       "max      224.9\n",
       "Name: REScorrect, dtype: float64"
      ]
     },
     "execution_count": 100,
     "metadata": {},
     "output_type": "execute_result"
    }
   ],
   "source": [
    "df_erGIS['REScorrect'].describe().round(1)"
   ]
  },
  {
   "cell_type": "code",
   "execution_count": 101,
   "metadata": {},
   "outputs": [],
   "source": [
    "# saving results as CSV\n",
    "\n",
    "df_erGIS.to_csv('gis_hep_4a.csv')\n"
   ]
  }
 ],
 "metadata": {
  "kernelspec": {
   "display_name": ".venv38eo",
   "language": "python",
   "name": "python3"
  },
  "language_info": {
   "codemirror_mode": {
    "name": "ipython",
    "version": 3
   },
   "file_extension": ".py",
   "mimetype": "text/x-python",
   "name": "python",
   "nbconvert_exporter": "python",
   "pygments_lexer": "ipython3",
   "version": "3.8.10"
  },
  "orig_nbformat": 4
 },
 "nbformat": 4,
 "nbformat_minor": 2
}
